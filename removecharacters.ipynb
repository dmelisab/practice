{
 "cells": [
  {
   "cell_type": "code",
   "execution_count": null,
   "metadata": {},
   "outputs": [],
   "source": [
    "a = str(input(\"Bir şeyler yaz: \"))\n",
    "n = int(input(\"Sayı\"))\n",
    "\n",
    "def remove_chars(a, n):\n",
    "  a = a[n:] \n",
    "  return(a)\n",
    "  \n",
    "print(remove_chars(a, n))\n"
   ]
  },
  {
   "cell_type": "code",
   "execution_count": null,
   "metadata": {},
   "outputs": [],
   "source": [
    "def remove_chars(word, n):\n",
    "    print('Original string:', word)\n",
    "    x = word[n:]\n",
    "    return x\n",
    "\n",
    "print(\"Removing characters from a string\")\n",
    "print(remove_chars(\"pynative\", 4))\n",
    "print(remove_chars(\"pynative\", 2))"
   ]
  },
  {
   "cell_type": "code",
   "execution_count": null,
   "metadata": {},
   "outputs": [],
   "source": [
    "a = str(input(\"Bir şeyler yaz: \"))\n",
    "n = int(input(\"Sayı\"))\n",
    "\n",
    "def remove_chars(a, n):\n",
    "  a = a[:n] \n",
    "  return(a)\n",
    "  \n",
    "print(remove_chars(a, n))"
   ]
  }
 ],
 "metadata": {
  "language_info": {
   "name": "python"
  },
  "orig_nbformat": 4
 },
 "nbformat": 4,
 "nbformat_minor": 2
}
