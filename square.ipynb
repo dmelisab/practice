{
 "cells": [
  {
   "cell_type": "code",
   "execution_count": 3,
   "metadata": {},
   "outputs": [
    {
     "name": "stdout",
     "output_type": "stream",
     "text": [
      "*****\n",
      "**\n",
      "**\n",
      "**\n",
      "*****\n"
     ]
    }
   ],
   "source": [
    "getrows = int(input(\"Satır sayısı giriniz: \"))\n",
    "\n",
    "for i in range(getrows):\n",
    "  for j in range(getrows):\n",
    "    if i == 0 or i == getrows-1 or j == 0 or j == getrows-1:\n",
    "      print(\"*\", end=\"\")\n",
    "    else:\n",
    "      print(\"\", end=\"\")\n",
    "  print()"
   ]
  }
 ],
 "metadata": {
  "kernelspec": {
   "display_name": "Python 3.8.8 ('base')",
   "language": "python",
   "name": "python3"
  },
  "language_info": {
   "codemirror_mode": {
    "name": "ipython",
    "version": 3
   },
   "file_extension": ".py",
   "mimetype": "text/x-python",
   "name": "python",
   "nbconvert_exporter": "python",
   "pygments_lexer": "ipython3",
   "version": "3.8.8"
  },
  "orig_nbformat": 4,
  "vscode": {
   "interpreter": {
    "hash": "901095a3149d8332cc34db35c90ab4912b903d76f4bd5d8a47a02f697fdfa110"
   }
  }
 },
 "nbformat": 4,
 "nbformat_minor": 2
}
