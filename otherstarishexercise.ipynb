{
 "cells": [
  {
   "cell_type": "code",
   "execution_count": 8,
   "metadata": {},
   "outputs": [
    {
     "name": "stdout",
     "output_type": "stream",
     "text": [
      "**********************\n",
      "**                  **\n",
      "* *                * *\n",
      "*  *              *  *\n",
      "*   *            *   *\n",
      "*    *          *    *\n",
      "*     *        *     *\n",
      "*      *      *      *\n",
      "*       *    *       *\n",
      "*        *  *        *\n",
      "*         **         *\n",
      "*         **         *\n",
      "*        *  *        *\n",
      "*       *    *       *\n",
      "*      *      *      *\n",
      "*     *        *     *\n",
      "*    *          *    *\n",
      "*   *            *   *\n",
      "*  *              *  *\n",
      "* *                * *\n",
      "**                  **\n",
      "**********************\n"
     ]
    }
   ],
   "source": [
    "getrows = int(input(\"Bir sayı giriniz: \") *2)\n",
    "getcolumn = getrows\n",
    "for i in range(getrows):\n",
    "    for j in range(getcolumn):\n",
    "        if i == 0 or i == getrows-1 or j == 0 or j == getcolumn-1 or i == j or j == (getrows - 1 - i):\n",
    "            print(\"*\", end=\"\")\n",
    "        else:\n",
    "            print(\" \", end=\"\")\n",
    "    print()\n"
   ]
  },
  {
   "cell_type": "code",
   "execution_count": 13,
   "metadata": {},
   "outputs": [
    {
     "name": "stdout",
     "output_type": "stream",
     "text": [
      "***************\n",
      "**           **\n",
      "* *         * *\n",
      "*  *       *  *\n",
      "*   *     *   *\n",
      "*    *   *    *\n",
      "*     * *     *\n",
      "*      *      *\n",
      "*     * *     *\n",
      "*    *   *    *\n",
      "*   *     *   *\n",
      "*  *       *  *\n",
      "* *         * *\n",
      "**           **\n",
      "***************\n"
     ]
    }
   ],
   "source": [
    "getrows = int(input(\"Bir sayı giriniz: \") )\n",
    "getcolumn = getrows\n",
    "for i in range(getrows):\n",
    "    for j in range(getcolumn):\n",
    "        if i == 0 or i == getrows-1 or j == 0 or j == getcolumn-1 or i == j or j == (getrows - 1 - i):\n",
    "            print(\"*\", end=\"\")\n",
    "        else:\n",
    "            print(\" \", end=\"\")\n",
    "    print()"
   ]
  },
  {
   "cell_type": "code",
   "execution_count": null,
   "metadata": {},
   "outputs": [],
   "source": [
    "getrows = int(input(\"Satır sayısı giriniz: \"))\n",
    "getcolumn = getrows\n",
    "for i in range(getrows):\n",
    "  for j in range(getcolumn):\n",
    "    if i == 0 or i == getrows-1 or j == 0 or j == getcolumn-1:\n",
    "      print(\"*\", end=\"\")\n",
    "    else:\n",
    "      print(\" \", end=\"\")\n",
    "  print()"
   ]
  }
 ],
 "metadata": {
  "kernelspec": {
   "display_name": "Python 3.10.2 64-bit",
   "language": "python",
   "name": "python3"
  },
  "language_info": {
   "codemirror_mode": {
    "name": "ipython",
    "version": 3
   },
   "file_extension": ".py",
   "mimetype": "text/x-python",
   "name": "python",
   "nbconvert_exporter": "python",
   "pygments_lexer": "ipython3",
   "version": "3.10.2"
  },
  "orig_nbformat": 4,
  "vscode": {
   "interpreter": {
    "hash": "26de051ba29f2982a8de78e945f0abaf191376122a1563185a90213a26c5da77"
   }
  }
 },
 "nbformat": 4,
 "nbformat_minor": 2
}
